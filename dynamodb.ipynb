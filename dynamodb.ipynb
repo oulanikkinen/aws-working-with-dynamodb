{
 "cells": [
  {
   "cell_type": "markdown",
   "metadata": {},
   "source": [
    "# Working with Amazon DynamoDB\n",
    "\n",
    "## Overview and objectives\n",
    "\n",
    "In this project, I use Amazon DynamoDB to store and manage menu information. Using databases, such as DynamoDB, simplifies data management because I can easily query, sort, edit, and index data. I will use both the AWS Command Line Interface (AWS CLI) and the AWS SDK for Python (Boto3) to work with DynamoDB. \n",
    "\n",
    "In upcoming projects, I will use application programming interface (API) calls from the café website to dynamically retrieve and update data that's stored in a DynamoDB table. \n",
    "\n",
    "After reading this document, you should also be able to:\n",
    "\n",
    "- Create a new DynamoDB table \n",
    "- Add data to the table \n",
    "- Modify table items based on conditions \n",
    "- Query the table \n",
    "- Add a global secondary index to the table\n",
    " \n",
    "\n",
    "When I started the simulation, the following resources are already created for Ithe AWS account:\n",
    "\n",
    "- AWS Cloud9 integrated development environment (IDE) instance\n",
    "- Amazon Elastic Compute Cloud (Amazon EC2) instance for authoring code and running commands through the AWS CLI\n",
    "\n",
    "![starting resources](images/DDB_start_lab.png)\n",
    "\n",
    "At the end of this lab, My achitecture will look like the following example:\n",
    "\n",
    "![starting resources](images/DDB_end_lab.png)\n",
    "\n",
    " \n",
    "## Scenario\n",
    "The café website is up and running, and the café staff noticed a significant increase in new customer visits. Multiple customers also mentioned that it would be helpful if the website had an up-to-date menu. They could then use the menu to check the availability of food items before going to the café. \n",
    "\n",
    "Frank and Martha ask Sofía to explore whether she can implement this feature for customers. Sofía is feeling more confident in her coding skills and has also been learning about different ways to store information in AWS. She knows that before they can dynamically update data on the website, she must first choose a data storage service to hold the data. She also needs to learn how to manage table data, load the product records, and create scripts to retrieve information from the data platform.\n",
    "\n",
    "![starting resources](images/chocolate-cake.png)\n",
    "\n",
    "## A business request from the café: Store menu information in the cloud\n",
    "Frank and Martha mentioned to Sofía that they want the website to dynamically update its menu information. To prepare for this new functionality, Sofía decides to store this information in DynamoDB. \n",
    "\n",
    "Café staff must be able to retrieve information from the table. Sofía decides to create one script that retrieves all inventory items from the table and another script (as a proof of concept) that uses a product name to retrieve a single record.\n",
    "\n",
    "For this first challenge, Ie on the role of Sofía. IWS CLI and the SDK for Python to configure and create a DynamoDB table, load records into the table, and extract data from the table.\n",
    "\n",
    "\n",
    "## Task 1: Preparing the lab\n",
    "Before I start this lab, I must import some files and install some packages in the AWS Cloud9 environment that was prepared for I.\n",
    "\n",
    "Connect to the AWS Cloud9 IDE.\n",
    "\n",
    "From the Services menu, search for and select Cloud9. I should see an existing IDE named Cloud9 Instance.\n",
    "\n",
    "In the Cloud9 Instance pane, choose Open IDE.\n",
    "\n",
    "The AWS Cloud9 IDE loads in a new browser tab.\n",
    "\n",
    " \n",
    "\n",
    "Download and extract the files that Id for this lab.\n",
    "\n",
    "Run the following command in the same terminal:"
   ]
  },
  {
   "cell_type": "code",
   "execution_count": null,
   "metadata": {
    "vscode": {
     "languageId": "shellscript"
    }
   },
   "outputs": [],
   "source": [
    "wget https://aws-tc-largeobjects.s3.us-west-2.amazonaws.com/CUR-TF-200-ACCDEV-2-91558/03-lab-dynamo/code.zip -P /home/ec2-user/environment"
   ]
  },
  {
   "cell_type": "markdown",
   "metadata": {},
   "source": [
    "\n",
    "I should see that the code.zip file was downloaded to the AWS Cloud9 instance and is now in the left navigation pane.\n",
    "\n",
    "Extract the file by running the following command:\n"
   ]
  },
  {
   "cell_type": "code",
   "execution_count": null,
   "metadata": {
    "vscode": {
     "languageId": "shellscript"
    }
   },
   "outputs": [],
   "source": [
    "# Unzip the downloaded code\n",
    "unzip code.zip"
   ]
  },
  {
   "cell_type": "markdown",
   "metadata": {},
   "source": [
    "Tip: This action extracts the files from code.zip. In the Environment pane on the left, Iuld now see a new folder that is named resources. Ihe files that Iownloaded and extracted later in this lab.\n",
    "\n",
    " \n",
    "\n",
    "Run a script that upgraded the version of Python installed on the Cloud9 instance. It will also upgrade the version of the AWS CLI installed.\n",
    "\n",
    "To set permissions on the script and then run it, run the following commands:"
   ]
  },
  {
   "cell_type": "code",
   "execution_count": null,
   "metadata": {
    "vscode": {
     "languageId": "shellscript"
    }
   },
   "outputs": [],
   "source": [
    "chmod +x ./resources/setup.sh && ./resources/setup.sh"
   ]
  },
  {
   "cell_type": "markdown",
   "metadata": {},
   "source": [
    "Verify the AWS CLI version and also verify that the SDK for Python is installed.\n",
    "\n",
    "Confirm that the AWS CLI is now at version 2 by running the aws --version command.\n",
    "\n",
    "In the AWS Cloud9 Bash terminal (at the bottom of the IDE), run the following command:"
   ]
  },
  {
   "cell_type": "code",
   "execution_count": null,
   "metadata": {
    "vscode": {
     "languageId": "shellscript"
    }
   },
   "outputs": [],
   "source": [
    "pip show boto3"
   ]
  },
  {
   "cell_type": "markdown",
   "metadata": {},
   "source": [
    "Note: If you see a message about not using the latest version of pip, ignore the message.\n",
    "\n",
    "\n",
    "## Task 2: Creating a DynamoDB table by using the SDK for Python\n",
    "To store and dynamically manage the café's menu items, Sofía decides to create a new DynamoDB table. \n",
    "\n",
    "In this task, I take on the role of Sofía to create and define the new DynamoDB table.\n",
    "\n",
    "Initially, Iate this table with only one attribute. Because every DynamoDB table requires a primary key, this attribute becomes the primary key for the table. Each value used as a primary key must be unique. \n",
    "\n",
    "The *product_name* is the first attribute that I define in the table. The product_name attribute works well because the café's product names should not be duplicated. Also, the café wants to use the product names to query details about each record.\n",
    "\n",
    "Tip: Choose Iprimary keys carefully. After a table has been created, Iannot change the primary key to use a different attribute or set of attributes. If Iust change the primary key, Iust create a new table and migrate the data from yoIisting table. For more details, refer to the Amazon DynamoDB Developer Guide at https://docs.aws.amazon.com/amazondynamodb/latest/developerguide/Introduction.html.\n",
    "\n",
    "Like the previous labs, Ise the SDK for Python so that I can use the Python script with the DynamoDB service.\n",
    "\n",
    " \n",
    "\n",
    "First, verify that no tables exist in the environment by using the AWS Management Console:\n",
    "\n",
    "In the top-left corner of the AWS Cloud9 IDE, choose the AWS Cloud9 icon, and choose Go To Ishboard.\n",
    "\n",
    "A new tab opens in Ibrowser. \n",
    "\n",
    "In the new tab, open the DynamoDB console by choosing the Services menu and then choosing DynamoDB.\n",
    "\n",
    "Note: If I see a message that offers a preview of the new console at the top of the page, choose this option. Choose the try it and let us know what I think link.\n",
    "\n",
    "Note: When the DynamoDB console opens, close any informational messages at the top of the page by choosing the X (in the top-right area of each message).\n",
    "\n",
    "On the left, expand the DynamoDB navigation pane by choosing the  menu icon.\n",
    "\n",
    "From the DynamoDB menu, choose Tables.\n",
    "\n",
    "Review the Tables pane.\n",
    "\n",
    "![starting resources](images/DDB_no_tables.png)\n",
    "\n",
    "Notice that no tables are listed.\n",
    "\n",
    " \n",
    "\n",
    "Edit the script that will create the table:\n",
    "\n",
    "Return to the AWS Cloud9 IDE browser tab.\n",
    "In the navigation pane of the AWS Cloud9 IDE, expand the python_3 directory. \n",
    "Open the create_table.py script by double-clicking it.\n",
    "Replace the <FMI_1> placeholder with the table name, which is:"
   ]
  },
  {
   "cell_type": "code",
   "execution_count": null,
   "metadata": {
    "vscode": {
     "languageId": "shellscript"
    }
   },
   "outputs": [],
   "source": [
    "FoodProducts"
   ]
  },
  {
   "cell_type": "markdown",
   "metadata": {},
   "source": [
    "In the upper left, choose File > Save to save Ichanges.\n",
    "\n",
    "\n",
    "To understand what the script does, review the code:\n",
    "\n",
    "The line that defines the DDB variable also configures the SDK for Python resource. \n",
    "It sets both the AWS service and the AWS Region that the Python script will call."
   ]
  },
  {
   "cell_type": "code",
   "execution_count": null,
   "metadata": {},
   "outputs": [],
   "source": [
    "DDB = boto3.resource('dynamodb', region_name='us-east-1')"
   ]
  },
  {
   "cell_type": "markdown",
   "metadata": {},
   "source": [
    "The following section provides the details that describe the new table. Note the values for TableName, KeySchema, and AttributeDefinitions. The AttributeDefinitions parameter contains only one value, which is product_name. I can add more attributes later at runtime."
   ]
  },
  {
   "cell_type": "code",
   "execution_count": null,
   "metadata": {},
   "outputs": [],
   "source": [
    "params = {\n",
    "       'TableName': '<FMI_1>',\n",
    "       'KeySchema': [\n",
    "           {'AttributeName': 'product_name', 'KeyType': 'HASH'}\n",
    "       ],\n",
    "       'AttributeDefinitions': [\n",
    "           {'AttributeName': 'product_name', 'AttributeType': 'S'}\n",
    "       ],\n",
    "       'ProvisionedThroughput': {\n",
    "           'ReadCapacityUnits': 1,\n",
    "           'WriteCapacityUnits': 1\n",
    "       }\n",
    "   }"
   ]
  },
  {
   "cell_type": "markdown",
   "metadata": {},
   "source": [
    "The line that defines the table variable also creates the table:\n",
    "\n",
    "💁‍♂ Boto requires key values arguments rather than the object literal format, so I use **params to pass the parameters to the create_table operation."
   ]
  },
  {
   "cell_type": "code",
   "execution_count": null,
   "metadata": {},
   "outputs": [],
   "source": [
    "table = DDB.create_table(**params)"
   ]
  },
  {
   "cell_type": "markdown",
   "metadata": {},
   "source": [
    "In the AWS Cloud9 terminal window, go to the python_3 directory, and run the following code:"
   ]
  },
  {
   "cell_type": "code",
   "execution_count": null,
   "metadata": {
    "vscode": {
     "languageId": "shellscript"
    }
   },
   "outputs": [],
   "source": [
    "cd python_3\n",
    "python3 create_table.py"
   ]
  },
  {
   "cell_type": "markdown",
   "metadata": {},
   "source": [
    "This command can take several minutes to run because in the code Ire waiting for the table to be ready before exiting the function. It might look like it hangs, but be patient. Once the command completes successfully, the terminal output should show the following message:\n",
    "\n",
    "Done\n",
    "Once done (and not before), run the following command to make sure the table was successfully created:"
   ]
  },
  {
   "cell_type": "code",
   "execution_count": null,
   "metadata": {
    "vscode": {
     "languageId": "shellscript"
    }
   },
   "outputs": [],
   "source": [
    "aws dynamodb list-tables --region us-east-1"
   ]
  },
  {
   "cell_type": "markdown",
   "metadata": {},
   "source": [
    "The output should be similar to the following example:"
   ]
  },
  {
   "cell_type": "code",
   "execution_count": null,
   "metadata": {
    "vscode": {
     "languageId": "sql"
    }
   },
   "outputs": [],
   "source": [
    "{\n",
    "  \"TableNames\": [\n",
    "      \"FoodProducts\"\n",
    "  ]\n",
    "}"
   ]
  },
  {
   "cell_type": "markdown",
   "metadata": {},
   "source": [
    "Return to the browser tab with the DynamoDB console. Use the refresh icon on the far right, choose FoodProducts, and verify that the table has a created state of Active.\n",
    "\n",
    "![starting resources](images/DDB_table_created.png)\n",
    " \n",
    "\n",
    "In the next few tasks, I learn how to add data to the table that I created."
   ]
  },
  {
   "cell_type": "markdown",
   "metadata": {},
   "source": [
    "## Task 3: Working with DynamoDB data – Understanding DynamoDB condition expressions\n",
    "Now that Sofía created the table, she wants to understand what happens when records are written to it.\n",
    "\n",
    "In this task, I continue as Sofía to insert the first record into the table. \n",
    "\n",
    " \n",
    "\n",
    "Review the JavaScript Object Notation (JSON) data that defines the new record.\n",
    "\n",
    "In the AWS Cloud9 IDE, expand the resources folder.\n",
    "Open the not_an_existing_product.json file by double-clicking it.\n",
    "\n",
    "Analysis: This file contains one item with two attributes: product_name and product_id. Both of these attributes are strings. The primary key (product_name) was defined when the DynamoDB table was created. Because DynamoDB tables are schemaless (to be exact, not bound by a fixed schema), I add new attributes to the table when items are inserted or updated. With DynamoDB, I don't need to change the table definition before Idd records that contain additional attributes.\n",
    "\n",
    " \n",
    "\n",
    "To insert the new record, run the following command. Ensure that I are still in the python_3 folder."
   ]
  },
  {
   "cell_type": "code",
   "execution_count": null,
   "metadata": {
    "vscode": {
     "languageId": "shellscript"
    }
   },
   "outputs": [],
   "source": [
    "aws dynamodb put-item \\\n",
    "--table-name FoodProducts \\\n",
    "--item file://../resources/not_an_existing_product.json \\\n",
    "--region us-east-1"
   ]
  },
  {
   "cell_type": "markdown",
   "metadata": {},
   "source": [
    "Verify that the new record was added to the table by using the DynamoDB console to complete the following tasks:\n",
    "\n",
    "Return to the DynamoDB console and choose the FoodProducts link.\n",
    "\n",
    "Choose Explore table items.\n",
    "\n",
    "Under Items returned, review the information.\n",
    "\n",
    "![starting resources](images/DDB_insert_1.png)\n",
    "\n",
    "I should find one record with two attributes: product_name and product_id.\n",
    "\n",
    "Add a second record to the table. \n",
    "\n",
    " \n",
    "\n",
    "Update the JSON data to create a new record:\n",
    "\n",
    "Return to the AWS Cloud9 IDE and load the not_an_existing_product.json file in the text editor.\n",
    "\n",
    "Replace the product_name value of <best cake> with best pie\n",
    "\n",
    "Do not change the product_id value.\n",
    "\n",
    "In the upper left, choose File > Save to save Ir changes.\n",
    "\n",
    " \n",
    "\n",
    "To add the new record, run the following command. Notice that this command is the same AWS CLI command that I used to add the first record."
   ]
  },
  {
   "cell_type": "code",
   "execution_count": null,
   "metadata": {
    "vscode": {
     "languageId": "shellscript"
    }
   },
   "outputs": [],
   "source": [
    "aws dynamodb put-item \\\n",
    "--table-name FoodProducts \\\n",
    "--item file://../resources/not_an_existing_product.json \\\n",
    "--region us-east-1"
   ]
  },
  {
   "cell_type": "markdown",
   "metadata": {},
   "source": [
    "Again, view the new record in the table by using the console:\n",
    "\n",
    "Return to the Item explorer in the DynamoDB console.\n",
    "Confirm that the FoodProducts table is selected.\n",
    "Choose Scan\n",
    "Choose Run\n",
    "Under Items returned, review the data. \n",
    "\n",
    "![starting resources](images/DDB_insert_2.png)\n",
    "\n",
    "💁‍♂ Because the product_id attribute is not the primary key of the table, it doesn't need to be unique, and a new record is inserted successfully. If the value of product_name is different, a new record is created in the table.\n",
    "\n",
    "What do I think will happen if Iry to insert a duplicate record? \n",
    "\n",
    " \n",
    "\n",
    "Return to the AWS Cloud9 IDE and try re-running the previous AWS CLI command (the up key helps here). Don't make any changes to the JSON record.\n",
    "\n",
    " \n",
    "\n",
    "In the DynamoDB console, choose Run again and review the Items returned list. Do I notice any changes?\n",
    "\n",
    "💁‍♂ When a primary key doesn't exist in the table, the DynamoDb put-item command inserts a new item. However, if the primary key already exists, this command replaces the existing record with the new record, removing any previous attributes. This behavior is why I't see a new item in the table: the record was overwritten with identical information. The primary key prevents the same product_name values from being added multiple times.\n",
    "\n",
    " \n",
    "\n",
    "Now, try to insert a record with an existing primary key and a different product_id value.    \n",
    "\n",
    " \n",
    "\n",
    "Update the JSON record:\n",
    "\n",
    "Return to the AWS Cloud9 IDE and the not_an_existing_product.json file.\n",
    "\n",
    "Don't change the value of product_name.\n",
    "\n",
    "Replace the product_id value of <676767676767> with 3333333333\n",
    "\n",
    "In the upper left, choose File > Save to save Ir changes.\n",
    "\n",
    " \n",
    "\n",
    "Run the previous AWS CLI put-item command again:"
   ]
  },
  {
   "cell_type": "code",
   "execution_count": null,
   "metadata": {
    "vscode": {
     "languageId": "shellscript"
    }
   },
   "outputs": [],
   "source": [
    "aws dynamodb put-item \\\n",
    "--table-name FoodProducts \\\n",
    "--item file://../resources/not_an_existing_product.json \\\n",
    "--region us-east-1"
   ]
  },
  {
   "cell_type": "markdown",
   "metadata": {},
   "source": [
    "View the table data in the DynamoDB item explorer by choosing Run.\n",
    "\n",
    "![starting resources](images/DDB_insert_3.png)\n",
    "\n",
    "Analysis: The product_id value of the best pie record was replaced with the new value of product_id.\n",
    "\n",
    "However, I't want this behavior. Iant separate operations for adding new products and for updating product attributes. \n",
    "\n",
    "To implement this feature, I can refine the behavior of the put-item command with condition expressions. Ian use condition expressions to determine which item should be modified. In this case, yoIust prevent records from being overwritten if they already exist in the table. The attribute_not_exists() function provides this capability.\n",
    "\n",
    "Next, test the condition expression. Iry to insert another version of the record for best pie. \n",
    "\n",
    " \n",
    "\n",
    "Update the JSON record:\n",
    "\n",
    "Return to the AWS Cloud9 IDE and the not_an_existing_product.json file.\n",
    "\n",
    "Don't change the value of product_name.\n",
    "\n",
    "Replace the product_id value of <3333333333> with 2222222222\n",
    "\n",
    "Save changes.\n",
    "\n",
    " \n",
    "\n",
    "In the AWS Cloud9 terminal, run the following AWS CLI put-item command:\n"
   ]
  },
  {
   "cell_type": "code",
   "execution_count": null,
   "metadata": {
    "vscode": {
     "languageId": "shellscript"
    }
   },
   "outputs": [],
   "source": [
    "aws dynamodb put-item \\\n",
    "--table-name FoodProducts \\\n",
    "--item file://../resources/an_existing_product.json \\\n",
    "--condition-expression \"attribute_not_exists(product_name)\" \\\n",
    "--region us-east-1"
   ]
  },
  {
   "cell_type": "markdown",
   "metadata": {},
   "source": [
    "The command should return this output: \n",
    "\n",
    "An error occurred (ConditionalCheckFailedException) when calling the     PutItem operation: The conditional request failed\n",
    "\n",
    "This behavior is expected because the condition expression prevented an overwrite of the existing item.\n",
    "\n",
    "If Iike, Imake sure the record was unchanged by viewing the data in the DynamoDB console again.\n",
    "\n",
    "Next, Ipply what Irned about conditional expressions to working with the SDK.\n",
    "\n",
    " \n",
    "\n",
    "## Task 4: Adding and modifying a single item by using the SDK\n",
    "\n",
    "Sofía now has a good understanding of how to use the AWS CLI to control the data that is inserted into the table. She knows that the behavior for inserting data is similar with the SDK. She decides to write to the table by using Python code. \n",
    "\n",
    "In this task, Iontinue as Sofía to add and modify a single item by using the SDK.\n",
    "\n",
    " \n",
    "\n",
    "Update the conditional_put.py script.\n",
    "\n",
    "In the AWS Cloud9 IDE, go to the python_3 directory.\n",
    "\n",
    "Open the conditional_put.py script.\n",
    "\n",
    "Replace the <FMI> placeholders as directed in the script. Ian also refer to the code analysis in the following step.\n",
    "\n",
    "In the upper left, choose File > Save to save Ichanges.\n",
    "\n",
    " \n",
    "\n",
    "Review the code to understand what it does:\n",
    "\n",
    "Focus on the definition of the response variable, which begins on line 49. \n",
    "\n",
    "Notice the call to the put_item operation. In the SDK for Python, the put_item operation is equivalent to the put-item command in the AWS CLI. \n",
    "\n",
    "The put_item SDK operation requires a value for Item, which defines the record that is inserted into the table.\n",
    "\n",
    "This record contains five attributes:\n"
   ]
  },
  {
   "cell_type": "code",
   "execution_count": null,
   "metadata": {},
   "outputs": [],
   "source": [
    "'''\n",
    "    You must replace <FMI_1> with the table name FoodProducts\n",
    "    You must replace <FMI_2> with a product name. apple pie\n",
    "    You must replace <FMI_3> with a444\n",
    "    You must replace <FMI_4> with 595\n",
    "    You must replace <FMI_5> with the description: It is amazing!\n",
    "    You must replace <FMI_6> with a tag: whole pie\n",
    "    You must replace <FMI_7> with a tag: apple\n",
    "'''\n",
    "\n",
    "import boto3\n",
    "from botocore.exceptions import ClientError\n",
    "\n",
    "def conditional_put():\n",
    "    \n",
    "    DDB = boto3.client('dynamodb', region_name='us-east-1')\n",
    "    \n",
    "    try:\n",
    "        response = DDB.put_item(\n",
    "            TableName='FoodProducts',\n",
    "            Item={\n",
    "                'product_name': {\n",
    "                    'S': 'apple pie'\n",
    "                },\n",
    "                'product_id': {\n",
    "                    'S': 'a444'\n",
    "                },\n",
    "                'price_in_cents':{\n",
    "                    'N': '595' #number passed in as a string (ie in quotes)\n",
    "                },\n",
    "                'description':{\n",
    "                    'S': \"It is amazing!\"\n",
    "                },\n",
    "                'tags':{\n",
    "                    'L': [{\n",
    "                            'S': 'whole pie'\n",
    "                        },{\n",
    "                            'S': 'apple'\n",
    "                        }]\n",
    "                }\n",
    "            },\n",
    "            ConditionExpression='attribute_not_exists(product_name)'\n",
    "        )"
   ]
  },
  {
   "cell_type": "markdown",
   "metadata": {},
   "source": [
    "In the AWS Cloud9 terminal, run the file."
   ]
  },
  {
   "cell_type": "code",
   "execution_count": null,
   "metadata": {
    "vscode": {
     "languageId": "shellscript"
    }
   },
   "outputs": [],
   "source": [
    "python3 conditional_put.py"
   ]
  },
  {
   "cell_type": "markdown",
   "metadata": {},
   "source": [
    "If the command completes successfully, the terminal output should show the message Done. If I do not see the expected response, review the previous steps as well as any error messages and try again.\n",
    "\n",
    " \n",
    "\n",
    "Return to the DynamoDB item explorer, and review the updated data. Iuld find an entry for apple pie:\n",
    "\n",
    "![DDB_insert_4](images/DDB_insert_4.png)\n",
    "\n",
    " \n",
    "\n",
    "In the AWS Cloud9 IDE, update the conditional_put.py script again. This time, replace the product_id value of <a444> to a555 and save the file.\n",
    "\n",
    " \n",
    "\n",
    "Run the script again:"
   ]
  },
  {
   "cell_type": "code",
   "execution_count": null,
   "metadata": {
    "vscode": {
     "languageId": "shellscript"
    }
   },
   "outputs": [],
   "source": [
    "python3 conditional_put.py\n",
    "#Done"
   ]
  },
  {
   "cell_type": "markdown",
   "metadata": {},
   "source": [
    "In the DynamoDB item explorer, review the table data.  \n",
    "\n",
    "As I might expect, the item remains unchanged. Because the condition attribute_not_exists(product_name) was included in the put_item operation, the item was not overwritten. This failure behavior is exactly the behavior that It.\n",
    "\n",
    "What do Ihink will happen if Ihange only the product name (primary key) to cherry pie but keep the same attributes using that conditional expression?\n",
    "\n",
    " \n",
    "\n",
    "In the AWS Cloud9 IDE, update the conditional_put.py script by replacing the product_name value of <apple pie> to cherry pie and saving the file.\n",
    "\n",
    " \n",
    "\n",
    "Run the python3 conditional_put.py again.\n",
    "\n",
    " \n",
    "\n",
    "In the DynamoDB item explorer, review the data:\n",
    "\n",
    "![DDB_insert_5](images/DDB_insert_5.png)\n",
    "\n",
    "As expected, a new record was added to the table. Now, only new products will be added to the table. This feature prevents accidental updates to existing records when more records are inserted."
   ]
  },
  {
   "cell_type": "markdown",
   "metadata": {},
   "source": [
    "## Task 5: Adding multiple items by using the SDK and batch processing\n",
    "Sofía is glad that the café staff will be able to load individual records into the table. However, she knows that it isn't scalable for café staff to load records into the database one at a time. She knows that it's more efficient to use a batch process for loading a large quantity of records at one time. \n",
    "\n",
    "In this task, Iontinue as Sofía to implement batch processing by using the SDK.\n",
    "\n",
    "Because this batch load contains all product records, Iust delete all existing records from the table before yoIun it.\n",
    "\n",
    " \n",
    "\n",
    "In the DynamoDB Item explorer, refresh the view of the data by choosing Run\n",
    "\n",
    " \n",
    "\n",
    "Delete all records:\n",
    "\n",
    "Select the check boxes for all the table records. \n",
    "From the Actions menu, choose Delete item(s). \n",
    "In the pop-up window confirmation box, enter Delete and choose Delete items\n",
    " \n",
    "\n",
    "In the AWS Cloud9 IDE, open the resources > test.json file, and review the data.\n",
    "\n",
    "This file contains six records that Ise to test the batch-load script. Notice that this file contains multiple entries for apple pie on purpose. \n",
    "\n",
    "Now, update the script that performs the batch load.\n",
    "\n",
    " \n",
    "\n",
    "Update the test_batch_put.py script:\n",
    "\n",
    "In the AWS Cloud9 IDE, open the python_3 > test_batch_put.py script.\n",
    "\n",
    "Update the <FMI_1> placeholder with the FoodProducts table name. \n",
    "\n",
    "Replace the <FMI_2> with the product_name primary key name. \n",
    "\n",
    "In the upper left, choose File > Save to save Ir changes.\n",
    "\n",
    " \n",
    "\n",
    "To understand what the script does, review the code:\n",
    "\n",
    "The table that will be written to by the script is defined in the table variable on line 11. \n",
    "\n",
    "The with statement that begins on line 12 calls batch_writer(), which opens the connection to the database. \n",
    "\n",
    "Then, the code loops through each record and inserts the new data into the FoodProducts table:"
   ]
  },
  {
   "cell_type": "code",
   "execution_count": null,
   "metadata": {
    "vscode": {
     "languageId": "sql"
    }
   },
   "outputs": [],
   "source": [
    "table = DDB.Table('FoodProducts')\n",
    "with table.batch_writer(overwrite_by_pkeys=['product_name']) as batch:\n",
    "   for food in food_list:\n",
    "       price_in_cents = food['price_in_cents']\n",
    "       product_name = food['product_name']"
   ]
  },
  {
   "cell_type": "markdown",
   "metadata": {},
   "source": [
    "In the AWS Cloud9 terminal, run the file:"
   ]
  },
  {
   "cell_type": "code",
   "execution_count": null,
   "metadata": {
    "vscode": {
     "languageId": "shellscript"
    }
   },
   "outputs": [],
   "source": [
    "python3 test_batch_put.py"
   ]
  },
  {
   "cell_type": "markdown",
   "metadata": {},
   "source": [
    "After the script completes, the terminal should show the following output:"
   ]
  },
  {
   "cell_type": "code",
   "execution_count": null,
   "metadata": {
    "vscode": {
     "languageId": "plaintext"
    }
   },
   "outputs": [],
   "source": [
    "Adding food item: {'product_name': 'apple pie', 'price_in_cents': 595}\n",
    "Adding food item: {'product_name': 'cherry pie', 'price_in_cents': 395}\n",
    "Adding food item: {'product_name': 'apple pie', 'price_in_cents': 795}\n",
    "Adding food item: {'product_name': 'key lime pie', 'price_in_cents': 195}\n",
    "Adding food item: {'product_name': 'apple pie', 'price_in_cents': 195}\n",
    "Adding food item: {'product_name': 'apple pie', 'price_in_cents': 4495}"
   ]
  },
  {
   "cell_type": "markdown",
   "metadata": {},
   "source": [
    "What is the price_in_cents value that Ixpect to find for apple_pie? Validate Ieory by checking the data in the console.\n",
    " \n",
    "\n",
    "In the DynamoDB Item explorer, select the FoodProducts table, and run the scan again.\n",
    "\n",
    "![DDB_insert_6](images/DDB_insert_6.png)\n",
    "\n",
    "Instead of keeping the first value of price_in_cents, for apple_pie, the most recent value in the data file was applied. Why did this behavior happen?\n",
    "\n",
    "With single-item PUT requests (put_item), Ian avoid overwriting duplicate records by including a condition. However, with batch inserts, Iave two options for handling duplicate keys. YoIan either allow the overwrite, or Ian cause the entire batch process to fail. \n",
    "\n",
    " \n",
    "\n",
    "Review the test_batch_put.py script again. Focus on line 12. \n",
    "The overwrite_by_pkeys=['product_name'] parameter is included in the batch_writer method. This parameter tells DynamoDB to use last write wins if the key already exists.\n",
    "Last write wins is why the price_in_cents attribute was updated for apple pie. \n",
    " \n",
    "\n",
    "However, Iw that the café doesn't want the database to add incorrect values. For this dataset, it's better for the load to fail when duplicate product_name values are found instead of allowing the update to add incorrect values. \n",
    "\n",
    "I must change the script so that it fails when duplicates are included in the batch. Ian then review and clean up the data. To implement this feature, Iemove the overwrite_by_pkeys parameter from the batch_writer method.\n",
    "\n",
    "\n",
    "To prepare for the production data load, go to the browser tab with the DynamoDB console, and delete all records from the table as I did in the previous steps.\n",
    "\n",
    " \n",
    "\n",
    "Ian fix the overwrite behavior by updating the test_batch_put.py script and preparing to load the production data. \n",
    "\n",
    "In the AWS Cloud9 IDE, open python_3 > test_batch_put.py.\n",
    "Update line 12 by changing <with table.batch_writer(overwrite_by_pkeys=['product_name']) as batch> to the following and saving the file:"
   ]
  },
  {
   "cell_type": "code",
   "execution_count": null,
   "metadata": {},
   "outputs": [],
   "source": [
    "with table.batch_writer() as batch:"
   ]
  },
  {
   "cell_type": "markdown",
   "metadata": {},
   "source": [
    "💁‍♂ It's Python, so watch those indentations!\n",
    "\n",
    "Now run the script again:"
   ]
  },
  {
   "cell_type": "code",
   "execution_count": null,
   "metadata": {
    "vscode": {
     "languageId": "shellscript"
    }
   },
   "outputs": [],
   "source": [
    "python3 test_batch_put.py"
   ]
  },
  {
   "cell_type": "markdown",
   "metadata": {},
   "source": [
    "You will notice errors, which is what you want this time."
   ]
  },
  {
   "cell_type": "code",
   "execution_count": null,
   "metadata": {
    "vscode": {
     "languageId": "shellscript"
    }
   },
   "outputs": [],
   "source": [
    "Adding food item: apple pie 595\n",
    "Adding food item: cherry pie 395\n",
    "Adding food item: apple pie 795\n",
    "Adding food item: key lime pie 195\n",
    "Adding food item: apple pie 195\n",
    "Adding food item: apple pie 4495\n",
    "Traceback (most recent call last):\n",
    "  File \"test_batch_put.py\", line 27, in <module>\n",
    " batch_put(food_list)\n",
    "  File \"test_batch_put.py\", line 21, in batch_put\n",
    " batch.put_item(Item=formatted_data)\n",
    "  File \"/usr/local/lib/python3.6/site-packages/boto3/dynamodb/table.py\", line 156, in __exit__\n",
    " self._flush()\n",
    "  File \"/usr/local/lib/python3.6/site-packages/boto3/dynamodb/table.py\", line 137, in _flush\n",
    " RequestItems={self._table_name: items_to_send})\n",
    "  File \"/usr/local/lib/python3.6/site-packages/botocore/client.py\", line 357, in _api_call\n",
    " return self._make_api_call(operation_name, kwargs)\n",
    "  File \"/usr/local/lib/python3.6/site-packages/botocore/client.py\", line 676, in _make_api_call\n",
    " raise error_class(parsed_response, operation_name)\n",
    "botocore.exceptions.ClientError: An error occurred (ValidationException) when calling the BatchWriteItem operation: Provided list of item keys contains duplicates\n",
    "The important feedback in this output is the ClientError: An error occurred (ValidationException) when calling the BatchWriteItem operation: Provided list of item keys contains duplicates"
   ]
  },
  {
   "cell_type": "markdown",
   "metadata": {},
   "source": [
    "In the DynamoDB item explorer, scan the table again, and notice that no items have been added at all.\n",
    "\n",
    "This is good; Iish to fail hard and fast if there is a problem. Ion't want some items being added and some not. Ian leverage this error to catch issues in yoIJSON data and weed out any duplicate items.\n",
    "\n",
    "Using this fail-fast approach, Ian now try to load the actual data that the website will use.\n",
    "\n",
    "   \n",
    "\n",
    "In AWS Cloud9, review the contents of the resources/website/all_products.json file. Iill find many items. These items have several attributes, and some include an optional integer attribute called specials.\n",
    "\n",
    "In order to load the raw JSON used in the website, Ise a new script called batch_put.py.\n",
    "\n",
    "It is very similar to the test_batch_put.py script. This script allows for the optional integer special attribute and also maps the names of more fields to the correct DynamoDB attribute types.\n",
    "\n",
    "   \n",
    "\n",
    "Modify the python_3/batch_put.py script. \n",
    "\n",
    "Replace <FMI> with FoodProducts\n",
    "In the upper left, choose File > Save to save Ir changes.\n",
    " \n",
    "\n",
    "Run the script:"
   ]
  },
  {
   "cell_type": "code",
   "execution_count": null,
   "metadata": {
    "vscode": {
     "languageId": "shellscript"
    }
   },
   "outputs": [],
   "source": [
    "python batch_put.py"
   ]
  },
  {
   "cell_type": "markdown",
   "metadata": {},
   "source": [
    "After the script completes, the terminal should show the following output:"
   ]
  },
  {
   "cell_type": "code",
   "execution_count": null,
   "metadata": {
    "vscode": {
     "languageId": "shellscript"
    }
   },
   "outputs": [],
   "source": [
    "Adding special food item: apple pie slice 595\n",
    "Adding food item: chocolate cake slice 595\n",
    "Adding food item: chocolate cake 4095\n",
    "Adding special food item: apple pie 4595\n",
    "Adding special food item: chocolate chip cupcake 495\n",
    "Adding food item: vanilla cupcake 495\n",
    "Adding food item: chocolate cupcake 495\n",
    "Adding food item: peanutbutter and chocolate cupcake 495\n",
    "Adding special food item: strawberry cupcake 495\n",
    "Adding food item: vanilla glazed doughnut 295\n",
    "Adding food item: cinnamon doughnut 295\n",
    "Adding special food item: blueberry jelly doughnut 295\n",
    "Adding food item: chocolate doughnut 295\n",
    "Adding food item: powdered sugar doughnut 295\n",
    "Adding food item: raspberry jelly doughnut 295\n",
    "Adding food item: boston cream doughnut 295\n",
    "Adding food item: eclair 295\n",
    "Adding food item: lemon pie slice 595\n",
    "Adding food item: lemon pie 4595\n",
    "Adding food item: cherry pie slice 595\n",
    "Adding food item: cherry pie 4595\n",
    "Adding food item: chocolate iced doughnut 295\n",
    "Adding special food item: plain bagel 395\n",
    "Adding food item: poppy seed bagel 395\n",
    "Adding food item: garlic bagel 395\n",
    "Adding food item: blueberry bagel 395"
   ]
  },
  {
   "cell_type": "markdown",
   "metadata": {},
   "source": [
    "In the DynamoDB Item explorer, review the inserted data. Ihould now see 26 items! (The image below is truncated image for brevity.)\n",
    "\n",
    "![DDB_batch_load](images/DDB_batch_load.png)"
   ]
  },
  {
   "cell_type": "markdown",
   "metadata": {},
   "source": [
    "## Task 6: Querying the table by using the SDK\n",
    "Now that the data is loaded, Sofía needs a way to retrieve, or query, the product information from the DynamoDB table. \n",
    "\n",
    "The SDK has two operations for retrieving data from a DynamoDB table: scan() and query().\n",
    "\n",
    "The scan operation reads all records in the table, and unwanted data can then be filtered out. If only a subset of the table data is needed, the query operation often provides better performance because it reads only a subset of the records in the table or index.\n",
    "\n",
    "Frank and Martha want to show all the menu items on the café website, so Sofía decides to use the scan() operation to retrieve all records from the table. \n",
    "\n",
    "In this task, Iontinue as Sofía to implement this feature.\n",
    "\n",
    "Note: Later in the application development process, I use this Python code in an AWS Lambda function. The Lambda function retrieves the table records so that the café website can display all the pastries.\n",
    "\n",
    " \n",
    "\n",
    "Edit the script that selects all records from the table:\n",
    "\n",
    "In AWS Cloud9 IDE, open python_3 > get_all_items.py.\n",
    "\n",
    "Note: Do not use the get_all_items_py file in the resources folder.\n",
    "\n",
    "Update the <FMI_1> placeholder with the FoodProducts table name. \n",
    "\n",
    "In the upper left, choose File > Save to save Ir changes.\n",
    "    \n",
    "\n",
    "Review the get_all_items.py script to understand what it does:\n",
    "\n",
    "On line 15, the scan operation is defined in the response variable. \n",
    "\n",
    "Notice the while loop that begins on line 18. \n",
    "\n",
    "If the result of the scan operation is large, DynamoDB splits the results into 1 MB chunks of information (or the first 25 items if their total is less than 1 MB). These chunks of returned data are called pages. \n",
    "When the while loop runs, the code processes each page, which is also known as pagination. The loop then appends records to the end of the result set until all data has been received:"
   ]
  },
  {
   "cell_type": "code",
   "execution_count": null,
   "metadata": {},
   "outputs": [],
   "source": [
    "response = table.scan()\n",
    "data = response['Items']\n",
    "while response.get('LastEvaluatedKey'):\n",
    "    response = \n",
    "table.scan(ExclusiveStartKey=response['LastEvaluatedKey'])\n",
    "     data.extend(response['Items'])"
   ]
  },
  {
   "cell_type": "markdown",
   "metadata": {},
   "source": [
    "In the AWS Cloud9 terminal, run the script:"
   ]
  },
  {
   "cell_type": "code",
   "execution_count": null,
   "metadata": {
    "vscode": {
     "languageId": "shellscript"
    }
   },
   "outputs": [],
   "source": [
    "python3 get_all_items.py"
   ]
  },
  {
   "cell_type": "markdown",
   "metadata": {},
   "source": [
    "The returned data should be similar to the following output:"
   ]
  },
  {
   "cell_type": "code",
   "execution_count": null,
   "metadata": {
    "vscode": {
     "languageId": "shellscript"
    }
   },
   "outputs": [],
   "source": [
    "[{'price_in_cents': Decimal('295'), 'special': Decimal('1'), 'description': 'so good!', 'product_name': 'blueberry jelly doughnut', 'product_id_str': 'a455', 'tags': ['doughnut', 'on offer']}, {'price_in_cents': Decimal('295'), 'description': 'so good!', 'product_name': 'vanilla glazed doughnut', 'product_id_str': 'a453', 'tags': ['doughnut', 'on offer']}, {'price_in_cents': Decimal('295'), 'description': 'so good!', 'product_name': 'boston cream doughnut', 'product_id_str': 'a458', 'tags': ['doughnut', 'on offer']}, {'price_in_cents': Decimal('495'), 'description': 'yummy!', 'product_name': 'peanutbutter and chocolate cupcake', 'product_id_str': 'a451', 'tags': ['cupcakes', 'on offer']}, {'price_in_cents': Decimal('595'), 'special': Decimal('1'), 'description': 'amazing taste', 'product_name': 'apple pie slice', 'product_id_str': 'a444', 'tags': ['pie slice', 'on offer']}, {'price_in_cents': Decimal('395'), 'description': 'so good!', 'product_name': 'poppy seed bagel', 'product_id_str': 'a466', 'tags': ['bagel', 'on offer']}, {'price_in_cents': Decimal('395'), 'special': Decimal('1'), 'description': 'so good!', 'product_name': 'plain bagel', 'product_id_str': 'a465', 'tags': ['bagel', 'on offer']}, {'price_in_cents': Decimal('4595'), 'description': 'amazing taste', 'product_name': 'cherry pie', 'product_id_str': 'a463', 'tags': ['whole pie', 'on offer']}, {'price_in_cents': Decimal('495'), 'special': Decimal('1'), 'description': 'yummy!', 'product_name': 'strawberry cupcake', 'product_id_str': 'a452', 'tags': ['cupcakes', 'on offer']}, {'price_in_cents': Decimal('295'), 'description': 'so good!', 'product_name': 'cinnamon doughnut', 'product_id_str': 'a454', 'tags': ['doughnut', 'on offer']}, {'price_in_cents': Decimal('495'), 'description': 'yummy!', 'product_name': 'chocolate cupcake', 'product_id_str': 'a450', 'tags': ['cupcakes', 'on offer']}, {'price_in_cents': Decimal('495'), 'special': Decimal('1'), 'description': 'yummy!', 'product_name': 'chocolate chip cupcake', 'product_id_str': 'a448', 'tags': ['cupcakes', 'on offer']}, {'price_in_cents': Decimal('4595'), 'special': Decimal('1'), 'description': 'amazing taste', 'product_name': 'apple pie', 'product_id_str': 'a447', 'tags': ['whole pie', 'on offer']}, {'price_in_cents': Decimal('4595'), 'description': 'amazing taste', 'product_name': 'lemon pie', 'product_id_str': 'a461', 'tags': ['whole pie', 'on offer']}, {'price_in_cents': Decimal('295'), 'description': 'so good!', 'product_name': 'chocolate iced doughnut', 'product_id_str': 'a464', 'tags': ['doughnut', 'on offer']}, {'price_in_cents': Decimal('395'), 'description': 'so good!', 'product_name': 'garlic bagel', 'product_id_str': 'a467', 'tags': ['bagel', 'on offer']}, {'price_in_cents': Decimal('595'), 'description': 'chocolate heaven', 'product_name': 'chocolate cake slice', 'product_id_str': 'a445', 'tags': ['cake slice', 'on offer']}, {'price_in_cents': Decimal('395'), 'description': 'so good!', 'product_name': 'blueberry bagel', 'product_id_str': 'a467', 'tags': ['bagel', 'out of stock']}, {'price_in_cents': Decimal('4095'), 'description': 'chocolate heaven', 'product_name': 'chocolate cake', 'product_id_str': 'a446', 'tags': ['whole cake', 'on offer']}, {'price_in_cents': Decimal('295'), 'description': 'so good!', 'product_name': 'powdered sugar doughnut', 'product_id_str': 'a456', 'tags': ['doughnut', 'on offer']}, {'price_in_cents': Decimal('295'), 'description': 'so good!', 'product_name': 'chocolate doughnut', 'product_id_str': 'a455', 'tags': ['doughnut', 'on offer']}, {'price_in_cents': Decimal('595'), 'description': 'amazing taste', 'product_name': 'lemon pie slice', 'product_id_str': 'a460', 'tags': ['pie slice', 'on offer']}, {'price_in_cents': Decimal('595'), 'description': 'amazing taste', 'product_name': 'cherry pie slice', 'product_id_str': 'a462', 'tags': ['pie slice', 'on offer']}, {'price_in_cents': Decimal('295'), 'description': 'so good!', 'product_name': 'eclair', 'product_id_str': 'a459', 'tags': ['doughnut', 'on offer']}, {'price_in_cents': Decimal('295'), 'description': 'so good!', 'product_name': 'raspberry jelly doughnut', 'product_id_str': 'a457', 'tags': ['doughnut', 'on offer']}, {'price_in_cents': Decimal('495'), 'description': 'yummy!', 'product_name': 'vanilla cupcake', 'product_id_str': 'a449', 'tags': ['cupcakes', 'on offer']}]"
   ]
  },
  {
   "cell_type": "markdown",
   "metadata": {},
   "source": [
    "Notice that Python returns the numeric data for the price_in_cents attribute as Decimal(number as string). This is not valid JSON, but that's OK for now. Iddress this issue in a future lab.\n",
    "\n",
    "I have a good start with this query, which returns all records. However, Iant to try and search based on a attribute so that Frank and Martha could query for a specific product if they want to by using the product_name. I decide as a proof of concept to create a new script that returns a single product instead of returning all products.\n",
    "\n",
    " \n",
    "\n",
    "Update the get_one_item.py script.\n",
    "\n",
    "Replace the <FMI_1> with the name of the table's primary key.\n",
    "\n",
    "In the upper left, choose File > Save to save Ir changes.\n",
    "\n",
    " \n",
    "\n",
    "Review the code to understand what it does:\n",
    "\n",
    "Focus on lines 13 and 14, which define the response variable. The get_item operation requires a TableName and a Key. The Key parameter is used to compare the table's primary key, product_name, with the value that is passed in from the main module of the script.\n",
    "\n",
    "On line 24, note the value that's assigned to the product variable. Also observe that this value is passed to the get_one_item function."
   ]
  },
  {
   "cell_type": "code",
   "execution_count": null,
   "metadata": {},
   "outputs": [],
   "source": [
    "response = DDB.get_item(TableName='FoodProducts',\n",
    "  Key={\n",
    "   'product_name': {'S': product}\n",
    "   }\n",
    "  )\n",
    "data = response['Item']\n",
    "print (data)\n",
    "if __name__ == '__main__':\n",
    "  product = \"chocolate cake\"\n",
    "  get_one_item(product)"
   ]
  },
  {
   "cell_type": "markdown",
   "metadata": {},
   "source": [
    "Note: The get_item operation is a higher level abstraction of the query operation. It is designed to return a single item.\n",
    "\n",
    " \n",
    "\n",
    "In the AWS Cloud9 terminal, run the following command:"
   ]
  },
  {
   "cell_type": "code",
   "execution_count": null,
   "metadata": {
    "vscode": {
     "languageId": "shellscript"
    }
   },
   "outputs": [],
   "source": [
    "python3 get_one_item.py"
   ]
  },
  {
   "cell_type": "markdown",
   "metadata": {},
   "source": [
    "If the script completes successfully, the output should be similar to the following example:"
   ]
  },
  {
   "cell_type": "code",
   "execution_count": null,
   "metadata": {
    "vscode": {
     "languageId": "plaintext"
    }
   },
   "outputs": [],
   "source": [
    "{'price_in_cents': {'N': '4095'}, 'description': {'S': 'chocolate heaven'}, 'product_name': {'S': 'chocolate cake'}, 'product_id_str': {'S': 'a446'}, 'tags': {'L': [{'S': 'whole cake'}, {'S': 'on offer'}]}}"
   ]
  },
  {
   "cell_type": "markdown",
   "metadata": {},
   "source": [
    "Notice that this is now in the DynamoDB object format (unlike the query Iid before) and thus includes keys such as N and S. This is fine for now. I could parse that out and turn it into JSON that the website can understand using Lambda. However, this feature was only for a proof of concept.\n",
    "\n",
    "Sofía demonstrates the database features that she developed for the website to Frank, Martha, and the café staff. They are pleased that the website will soon be able to show all the live product information instead of the hard-coded version that they have currently."
   ]
  },
  {
   "cell_type": "markdown",
   "metadata": {},
   "source": [
    "## Task 7: Adding a global secondary index to the table\n",
    "Frank and Martha like the proof of concept that can now query the database for a specific product but return to Sofía with a request for a slightly more useful feature. The café staff originally thought that they would like to list all the products when the main page loads, but loading all 26 images would slow down the website.\n",
    "\n",
    "They considered a pagination feature, but with only 26 items, this option feels unnecessary. Instead, they have asked Sofia to expand on the proof of concept that searched based on a product name. This time, they need to search for items that are both part of the weekly special and also show that they are \"on offer\" in the tags attribute. This way when the website default page loads, it fetches only the featured menu items.\n",
    "\n",
    "Ian also give the users the option to show all items when building the website. This option makes the website much more efficient. Iake these website changes in a later lab to accommodate this new loading process.\n",
    "\n",
    "Sofía knows that searching on a primary key is easy as per her proof of concept. However, in order to search on attributes that are not part of a primary key, she needs to add a Global Secondary Index to the existing FoodProducts table.\n",
    "\n",
    "In this task, I continue as Sofía to implement this feature.\n",
    "\n",
    "To change the characteristics of a table, such as adding an index, Iust use the UpdateTable operation. For more information on this operation, refer to the Amazon DynamoDB Developer Guide at https://docs.aws.amazon.com/amazondynamodb/latest/developerguide/WorkingWithTables.Basics.html#WorkingWithTables.Basics.UpdateTable.\n",
    "\n",
    " \n",
    "\n",
    "Update the add_gsi.py script.\n",
    "\n",
    "Replace the <FMI_1> with the KeyType of HASH\n",
    "\n",
    "In the upper left, choose File > Save to save Ichanges.\n",
    "\n",
    " \n",
    "\n",
    "To understand what the add_gsi.py script does, open this script to review the code.\n",
    "\n",
    "Review the params variable on line 12. Focus on the GlobalSecondaryIndexUpdates parameter. Notice that a new index named special_GSI is created. This new index consists of one attribute: special.\n",
    "\n",
    "Similarly to the table creation, the line that defines the table variable also updates the table."
   ]
  },
  {
   "cell_type": "code",
   "execution_count": null,
   "metadata": {},
   "outputs": [],
   "source": [
    "    params = {\n",
    "        'TableName': 'FoodProducts',\n",
    "        'AttributeDefinitions': [\n",
    "            {'AttributeName': 'special', 'AttributeType': 'N'}\n",
    "        ],\n",
    "        'GlobalSecondaryIndexUpdates': [\n",
    "            {\n",
    "                'Create': {\n",
    "                    'IndexName': 'special_GSI',\n",
    "                    'KeySchema': [\n",
    "                        {\n",
    "                            'AttributeName': 'special',\n",
    "                            'KeyType': 'HASH'\n",
    "                        }\n",
    "                    ],\n",
    "                        'Projection': {\n",
    "                        'ProjectionType': 'ALL'\n",
    "                    },\n",
    "                        'ProvisionedThroughput': {\n",
    "                        'ReadCapacityUnits': 1,\n",
    "                        'WriteCapacityUnits': 1\n",
    "                    }\n",
    "                }\n",
    "            }\n",
    "        ]\n",
    "    }\n",
    "\n",
    "    table = DDB.update_table(**params)"
   ]
  },
  {
   "cell_type": "markdown",
   "metadata": {},
   "source": [
    "In the AWS Cloud9 terminal, run the following command:"
   ]
  },
  {
   "cell_type": "code",
   "execution_count": null,
   "metadata": {
    "vscode": {
     "languageId": "shellscript"
    }
   },
   "outputs": [],
   "source": [
    "python3 add_gsi.py"
   ]
  },
  {
   "cell_type": "markdown",
   "metadata": {},
   "source": [
    "If the command completes successfully, the terminal output should display the message DONE.\n",
    "\n",
    "Note:  It can take up to 5 minutes for the index to populate.\n",
    "\n",
    "   \n",
    "\n",
    "In the DynamoDB console, monitor the status of the index:\n",
    "\n",
    "Choose Tables.\n",
    "\n",
    "Choose FoodProducts.\n",
    "\n",
    "Choose the Indexes tab.\n",
    "\n",
    "Wait until the Status changes from Creating to Active.\n",
    "\n",
    " \n",
    "\n",
    "![GSI Status](images/gsi_status.png)\n",
    "\n",
    " \n",
    "\n",
    "Note: If I are using the new console, the Status column may become hidden a few minutes after the index creation and population has completed.\n",
    "\n",
    "The special_GSI index is a sparse index, meaning it does not have as many items as the main table. It is a subset of the data and is more efficient to scan when I want to find only the items that are part of the specials menu.\n",
    "\n",
    " \n",
    "\n",
    " \n",
    "\n",
    "Update the scan_with_filter.py script.\n",
    "\n",
    "Change <FMI_1> to special_GSI\n",
    "\n",
    "Change  <FMI_2> to tags\n",
    "\n",
    "In the upper left, choose File > Save to save Ichanges.\n",
    "\n",
    " \n",
    "\n",
    "Review the code.\n",
    "\n",
    "On line 18, including the IndexName option lets the scan operator know that it will be going to the index and not the main table to read the data.\n",
    "\n",
    "On line 19, the filter expression processes the records that have been read and shows only records that meet the comparison criteria. In this case, it shows records only if they don't have out of stock in the tags attribute. This ensures that only items that are available or \"on offer\" are shown to customers."
   ]
  },
  {
   "cell_type": "code",
   "execution_count": null,
   "metadata": {},
   "outputs": [],
   "source": [
    "response = table.scan(\n",
    "  IndexName='special_GSI',\n",
    "  FilterExpression=Not(Attr('tags').contains('out of stock')))"
   ]
  },
  {
   "cell_type": "markdown",
   "metadata": {},
   "source": [
    "Note: You may be familiar with the older DynamoDB parameter, ScanFilter. This is a legacy parameter. FilterExpression should be used instead. FilterExpression does not include all of the operators that were provided with ScanFilter, for example NOT_CONTAINS. This is why Irapped the comparison inside the Not() function.\n",
    "\n",
    "Save the file and run it."
   ]
  },
  {
   "cell_type": "code",
   "execution_count": null,
   "metadata": {
    "vscode": {
     "languageId": "shellscript"
    }
   },
   "outputs": [],
   "source": [
    "python3 scan_with_filter.py"
   ]
  },
  {
   "cell_type": "markdown",
   "metadata": {},
   "source": [
    "The output should be similar to the following:"
   ]
  },
  {
   "cell_type": "code",
   "execution_count": null,
   "metadata": {
    "vscode": {
     "languageId": "shellscript"
    }
   },
   "outputs": [],
   "source": [
    "[{'price_in_cents': Decimal('295'), 'special': Decimal('1'), 'description': 'so good!', 'product_name': 'blueberry jelly doughnut', 'product_id_str': 'a455', 'tags': ['doughnut', 'on offer']}, {'price_in_cents': Decimal('395'), 'special': Decimal('1'), 'description': 'so good!', 'product_name': 'plain bagel', 'product_id_str': 'a465', 'tags': ['bagel', 'on offer']}, {'price_in_cents': Decimal('495'), 'special': Decimal('1'), 'description': 'yummy!', 'product_name': 'strawberry cupcake', 'product_id_str': 'a452', 'tags': ['cupcakes', 'on offer']}, {'price_in_cents': Decimal('495'), 'special': Decimal('1'), 'description': 'yummy!', 'product_name': 'chocolate chip cupcake', 'product_id_str': 'a448', 'tags': ['cupcakes', 'on offer']}, {'price_in_cents': Decimal('4595'), 'special': Decimal('1'), 'description': 'amazing taste', 'product_name': 'apple pie', 'product_id_str': 'a447', 'tags': ['whole pie', 'on offer']}]"
   ]
  },
  {
   "cell_type": "markdown",
   "metadata": {},
   "source": [
    "Again, the response is not in the format the website requires. However, when Ise this code in a Lambda function in a later lab, yoIl adjust then.\n",
    "\n",
    " \n",
    "\n",
    "## Update from the café\n",
    "Sofía is happy with the progress that she has made. The database table is loaded with data, she addressed the café's database backend requirements, and she will soon wire this into the website. \n",
    "\n",
    "Sofía's next task is to create an API that the website can use.\n",
    "\n",
    "Sofía decides to stop for the day, but she's looking forward to her next task. She plans to start working on creating a mock API that she can use for testing."
   ]
  }
 ],
 "metadata": {
  "language_info": {
   "name": "python"
  }
 },
 "nbformat": 4,
 "nbformat_minor": 2
}
